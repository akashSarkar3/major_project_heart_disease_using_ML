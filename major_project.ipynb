{
 "cells": [
  {
   "cell_type": "code",
   "execution_count": null,
   "id": "c48dbd7e-15fc-463c-9dba-7212dc0e12ce",
   "metadata": {},
   "outputs": [],
   "source": [
    "\n",
    "DESIGN AND IMPLEMENTATION OF HEART DISEASE \n",
    "PREDICTION USING MACHINE LEARNING ALGORITHMS"
   ]
  },
  {
   "cell_type": "code",
   "execution_count": null,
   "id": "513bc5a5-d330-4395-9eb0-22177957442b",
   "metadata": {},
   "outputs": [],
   "source": [
    "# Importing essential libraries\n",
    "import numpy as np\n",
    "import pandas as pd\n",
    "import matplotlib.pyplot as plt\n",
    "import seaborn as sns\n",
    "import warnings\n",
    "warnings.filterwarnings('ignore')\n",
    "\n",
    "# Importing and understanding the dataset\n",
    "dataset = pd.read_csv(\"heart1.csv\")\n",
    "\n",
    "# Verifying it as a 'dataframe' object in pandas\n",
    "print(type(dataset))\n",
    "\n",
    "# Shape of dataset\n",
    "print(dataset.shape)\n",
    "\n",
    "# Printing out a few columns\n",
    "print(dataset.head(5))\n",
    "print(dataset.sample(5))"
   ]
  },
  {
   "cell_type": "code",
   "execution_count": null,
   "id": "485ff970-2bd7-4b6c-b0a4-e2cf25aa6d49",
   "metadata": {},
   "outputs": [],
   "source": [
    "# Description\n",
    "print(dataset.describe())\n",
    "print(dataset.info())\n",
    "\n",
    "# Checking for missing values\n",
    "print(dataset.isnull().sum())\n",
    "\n",
    "# Analyzing the 'target' variable\n",
    "print(dataset[\"target\"].describe())\n",
    "print(dataset[\"target\"].unique())\n",
    "\n",
    "# Clearly, this is a classification problem, with the target variable having values '0' and '1'\n",
    "# Checking correlation between columns\n",
    "print(dataset.corr()[\"target\"].abs().sort_values(ascending=False))\n"
   ]
  },
  {
   "cell_type": "code",
   "execution_count": null,
   "id": "f1b2e7bb-5c1f-4c79-a2c5-3c85d0705098",
   "metadata": {},
   "outputs": [],
   "source": [
    "# Exploratory Data Analysis (EDA)\n",
    "# Analyzing the target variable\n",
    "y = dataset[\"target\"]\n",
    "sns.countplot(y)\n",
    "plt.show()\n",
    "\n",
    "target_temp = dataset.target.value_counts()\n",
    "print(target_temp)\n",
    "print(\"Percentage of patience with heart problems: \"+str(y.where(y==1).count()*100/303))\n",
    "print(\"Percentage of patience with heart problems: \"+str(y.where(y==0).count()*100/303))\n",
    "\n",
    "# Analyzing various features\n",
    "features = [\"sex\", \"cp\", \"fbs\", \"restecg\", \"exang\", \"slope\", \"ca\", \"thal\"]\n",
    "for feature in features:\n",
    "    print(f\"Unique values in {feature}: {dataset[feature].unique()}\")\n",
    "    sns.barplot(x=dataset[feature], y=y)\n",
    "    plt.show()\n"
   ]
  },
  {
   "cell_type": "code",
   "execution_count": null,
   "id": "b2a2a5d6-918a-4377-9ef0-350804b47ab0",
   "metadata": {},
   "outputs": [],
   "source": [
    "# Train-Test Split\n",
    "from sklearn.model_selection import train_test_split\n",
    "predictors = dataset.drop(\"target\", axis=1)\n",
    "target = dataset[\"target\"]\n",
    "\n",
    "X_train, X_test, Y_train, Y_test = train_test_split(predictors, target, test_size=0.20, random_state=0)\n",
    "\n",
    "print(X_train.shape)\n",
    "print(X_test.shape)\n",
    "print(Y_train.shape)\n",
    "print(Y_test.shape)\n"
   ]
  },
  {
   "cell_type": "code",
   "execution_count": null,
   "id": "7dac4503-ab97-4438-ab59-ba0fc3f4af5a",
   "metadata": {},
   "outputs": [],
   "source": [
    "# Model Fitting\n",
    "from sklearn.metrics import accuracy_score\n",
    "\n",
    "# Decision Tree\n",
    "from sklearn.tree import DecisionTreeClassifier\n",
    "max_accuracy = 0\n",
    "for x in range(200):\n",
    "    dt = DecisionTreeClassifier(random_state=x)\n",
    "    dt.fit(X_train, Y_train)\n",
    "    Y_pred_dt = dt.predict(X_test)\n",
    "    current_accuracy = round(accuracy_score(Y_pred_dt, Y_test) * 100, 2)\n",
    "    if current_accuracy > max_accuracy:\n",
    "        max_accuracy = current_accuracy\n",
    "        best_x = x\n",
    "dt = DecisionTreeClassifier(random_state=best_x)\n",
    "dt.fit(X_train, Y_train)\n",
    "Y_pred_dt = dt.predict(X_test)\n",
    "score_dt = round(accuracy_score(Y_pred_dt, Y_test) * 100, 2)\n",
    "print(f\"The accuracy score achieved using Decision Tree is: {score_dt} %\")\n"
   ]
  },
  {
   "cell_type": "code",
   "execution_count": null,
   "id": "24fdb6e0-1580-44ff-8713-9b56bf30e6f8",
   "metadata": {},
   "outputs": [],
   "source": [
    "# XGBoost\n",
    "import xgboost as xgb\n",
    "xgb_model = xgb.XGBClassifier(objective=\"binary:logistic\", random_state=42)\n",
    "xgb_model.fit(X_train, Y_train)\n",
    "Y_pred_xgb = xgb_model.predict(X_test)\n",
    "score_xgb = round(accuracy_score(Y_pred_xgb, Y_test) * 100, 2)\n",
    "print(f\"The accuracy score achieved using XGBoost is: {score_xgb} %\")\n"
   ]
  },
  {
   "cell_type": "code",
   "execution_count": null,
   "id": "95ea1e84-f448-4663-9ce6-d586ae1fa308",
   "metadata": {},
   "outputs": [],
   "source": [
    "# Neural Network\n",
    "from keras.models import Sequential\n",
    "from keras.layers import Dense\n",
    "model = Sequential()\n",
    "model.add(Dense(11, activation='relu', input_dim=13))\n",
    "model.add(Dense(1, activation='sigmoid'))\n",
    "model.compile(loss='binary_crossentropy', optimizer='adam', metrics=['accuracy'])\n",
    "model.fit(X_train, Y_train, epochs=300)"
   ]
  },
  {
   "cell_type": "code",
   "execution_count": null,
   "id": "bd6e816f-ac86-4843-8540-2e6eec8934dd",
   "metadata": {},
   "outputs": [],
   "source": [
    "# ## VI. Output final score:\n",
    "scores = [score_dt, score_rf, score_xgb, score_nn]\n",
    "algorithms = [\"Decision Tree\", \"Random Forest\", \"XGBoost\", \"Neural Network\"]\n",
    "for i in range(len(algorithms)):\n",
    "    print(f\"The accuracy score achieved using {algorithms[i]} is: {scores[i]} %\")"
   ]
  },
  {
   "cell_type": "code",
   "execution_count": null,
   "id": "e38e9a21-d27c-4866-92c6-91ea4c901be4",
   "metadata": {},
   "outputs": [],
   "source": [
    "# Plotting the accuracy scores\n",
    "sns.set(rc={'figure.figsize': (15, 8)})\n",
    "plt.bar(algorithms, scores)\n",
    "plt.xlabel(\"Algorithms\")\n",
    "plt.ylabel(\"Accuracy score\")\n",
    "sns.barplot(x=algorithms, y=scores)\n",
    "plt.show()"
   ]
  }
 ],
 "metadata": {
  "kernelspec": {
   "display_name": "Python 3 (ipykernel)",
   "language": "python",
   "name": "python3"
  },
  "language_info": {
   "codemirror_mode": {
    "name": "ipython",
    "version": 3
   },
   "file_extension": ".py",
   "mimetype": "text/x-python",
   "name": "python",
   "nbconvert_exporter": "python",
   "pygments_lexer": "ipython3",
   "version": "3.12.4"
  }
 },
 "nbformat": 4,
 "nbformat_minor": 5
}
